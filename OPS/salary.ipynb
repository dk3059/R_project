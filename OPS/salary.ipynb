{
 "cells": [
  {
   "cell_type": "code",
   "execution_count": 3,
   "metadata": {},
   "outputs": [],
   "source": [
    "import scrapy\n",
    "import requests\n",
    "from scrapy.http import TextResponse  # xpath 연습\n",
    "import matplotlib as mpl\n",
    "import matplotlib.pyplot as plt\n",
    "import seaborn as sns"
   ]
  },
  {
   "cell_type": "code",
   "execution_count": 92,
   "metadata": {},
   "outputs": [
    {
     "data": {
      "text/plain": [
       "<Response [200]>"
      ]
     },
     "execution_count": 92,
     "metadata": {},
     "output_type": "execute_result"
    }
   ],
   "source": [
    "url = \"http://www.statiz.co.kr/salary.php?opt=0&sopt={}\".format(\"2014\")\n",
    "req = requests.get(url)\n",
    "req"
   ]
  },
  {
   "cell_type": "code",
   "execution_count": 27,
   "metadata": {},
   "outputs": [
    {
     "data": {
      "text/plain": [
       "<200 http://www.statiz.co.kr/salary.php?opt=0&sopt=2018>"
      ]
     },
     "execution_count": 27,
     "metadata": {},
     "output_type": "execute_result"
    }
   ],
   "source": [
    "response = TextResponse(req.url, body=req.text, encoding='utf-8')\n",
    "response"
   ]
  },
  {
   "cell_type": "code",
   "execution_count": 128,
   "metadata": {},
   "outputs": [
    {
     "data": {
      "text/plain": [
       "['이대호']"
      ]
     },
     "execution_count": 128,
     "metadata": {},
     "output_type": "execute_result"
    }
   ],
   "source": [
    "i = 2\n",
    "name = response.xpath(\n",
    "    '/html/body/div[1]/div[1]/div/section[2]/div/div[2]/div[2]/div/div/div[2]/table/tr[{}]/td/a/text()'.format(i)).extract()\n",
    "name"
   ]
  },
  {
   "cell_type": "code",
   "execution_count": 72,
   "metadata": {},
   "outputs": [],
   "source": [
    "year = response.xpath(\n",
    "    '/html/body/div[1]/div[1]/div/section[2]/div/div[2]/div[2]/div/div/div[2]/table/tr/td[2]/text()').extract()"
   ]
  },
  {
   "cell_type": "code",
   "execution_count": 126,
   "metadata": {},
   "outputs": [
    {
     "data": {
      "text/plain": [
       "['롯데']"
      ]
     },
     "execution_count": 126,
     "metadata": {},
     "output_type": "execute_result"
    }
   ],
   "source": [
    "team = response.xpath(\n",
    "    '/html/body/div[1]/div[1]/div/section[2]/div/div[2]/div[2]/div/div/div[2]/table/tr[2]/td[3]/text()').extract()\n",
    "team"
   ]
  },
  {
   "cell_type": "code",
   "execution_count": 74,
   "metadata": {},
   "outputs": [],
   "source": [
    "salary = response.xpath(\n",
    "    '/html/body/div[1]/div[1]/div/section[2]/div/div[2]/div[2]/div/div/div[2]/table/tr/td[4]/text()').extract()"
   ]
  },
  {
   "cell_type": "code",
   "execution_count": 75,
   "metadata": {},
   "outputs": [],
   "source": [
    "WAR = response.xpath(\n",
    "    '/html/body/div[1]/div[1]/div/section[2]/div/div[2]/div[2]/div/div/div[2]/table/tr/td[5]/text()').extract()"
   ]
  },
  {
   "cell_type": "code",
   "execution_count": 86,
   "metadata": {},
   "outputs": [
    {
     "name": "stdout",
     "output_type": "stream",
     "text": [
      "김태균\n",
      "강민호\n",
      "이병규\n",
      "이승엽\n",
      "장원삼\n",
      "이용규\n",
      "최정\n",
      "정근우\n",
      "이택근\n",
      "앨버스\n",
      "김동주\n",
      "이진영\n",
      "배영수\n",
      "정대현\n",
      "정성훈\n",
      "이종욱\n",
      "김주찬\n",
      "임창용\n",
      "박병호\n",
      "최형우\n",
      "박한이\n",
      "봉중근\n",
      "이호준\n",
      "윤성환\n",
      "김현수\n",
      "이범호\n",
      "손승락\n",
      "강정호\n",
      "안지만\n",
      "조인성\n",
      "티포드\n",
      "손아섭\n",
      "홍성흔\n",
      "손시헌\n",
      "정현욱\n",
      "최준석\n",
      "니퍼트\n",
      "윤석민\n",
      "박석민\n",
      "송승준\n",
      "유먼\n",
      "밴헤켄\n",
      "나이트\n",
      "이승호\n",
      "이대수\n",
      "정재훈\n",
      "박용택\n",
      "장원준\n",
      "리즈\n",
      "송신영\n",
      "레이예스\n",
      "이대형\n",
      "강영식\n",
      "해커\n",
      "김강민\n",
      "송은범\n",
      "찰리\n",
      "노경은\n",
      "로티노\n",
      "김광현\n",
      "권혁\n",
      "히메네스\n",
      "스캇\n",
      "울프\n",
      "옥스프링\n",
      "벨\n",
      "테임즈\n",
      "웨버\n",
      "나바로\n",
      "어센시오\n",
      "조쉬벨\n",
      "볼스테드\n",
      "클레이\n",
      "필\n",
      "밴덴헐크\n",
      "마틴\n",
      "리오단\n",
      "진갑용\n",
      "피에\n",
      "홀튼\n",
      "칸투\n",
      "김원섭\n",
      "김상수\n",
      "차우찬\n",
      "박정권\n",
      "조동찬\n",
      "채태인\n",
      "나주환\n",
      "신경현\n",
      "서재응\n",
      "박정진\n",
      "타투스코\n",
      "김병현\n",
      "나지완\n",
      "한상훈\n",
      "박진만\n",
      "조성환\n",
      "양의지\n",
      "임경완\n",
      "김성배\n"
     ]
    },
    {
     "ename": "IndexError",
     "evalue": "list index out of range",
     "output_type": "error",
     "traceback": [
      "\u001b[0;31m---------------------------------------------------------------------------\u001b[0m",
      "\u001b[0;31mIndexError\u001b[0m                                Traceback (most recent call last)",
      "\u001b[0;32m<ipython-input-86-762943d7d814>\u001b[0m in \u001b[0;36m<module>\u001b[0;34m\u001b[0m\n\u001b[1;32m      1\u001b[0m \u001b[0;32mfor\u001b[0m \u001b[0mi\u001b[0m \u001b[0;32min\u001b[0m \u001b[0mrange\u001b[0m\u001b[0;34m(\u001b[0m\u001b[0mlen\u001b[0m\u001b[0;34m(\u001b[0m\u001b[0mname\u001b[0m\u001b[0;34m)\u001b[0m \u001b[0;34m+\u001b[0m \u001b[0;36m1\u001b[0m\u001b[0;34m)\u001b[0m\u001b[0;34m:\u001b[0m\u001b[0;34m\u001b[0m\u001b[0;34m\u001b[0m\u001b[0m\n\u001b[0;32m----> 2\u001b[0;31m     \u001b[0mprint\u001b[0m\u001b[0;34m(\u001b[0m\u001b[0mname\u001b[0m\u001b[0;34m[\u001b[0m\u001b[0mi\u001b[0m\u001b[0;34m]\u001b[0m\u001b[0;34m)\u001b[0m\u001b[0;34m\u001b[0m\u001b[0;34m\u001b[0m\u001b[0m\n\u001b[0m",
      "\u001b[0;31mIndexError\u001b[0m: list index out of range"
     ]
    }
   ],
   "source": [
    "for i in range(len(name) + 1):\n",
    "    print(name[i])"
   ]
  },
  {
   "cell_type": "code",
   "execution_count": 137,
   "metadata": {},
   "outputs": [],
   "source": [
    "datas = []\n",
    "for x in range(2010, 2019):\n",
    "    url = \"http://www.statiz.co.kr/salary.php?opt=0&sopt={}\".format(x)\n",
    "    req = requests.get(url)\n",
    "    response = TextResponse(req.url, body=req.text, encoding='utf-8')\n",
    "\n",
    "    for i in range(2, 102):\n",
    "\n",
    "        try:\n",
    "            text_1 = response.xpath(\n",
    "                '/html/body/div[1]/div[1]/div/section[2]/div/div[2]/div[2]/div/div/div[2]/table/tr[{}]/td[3]/text()'.format(i)).extract()[0]\n",
    "        except:\n",
    "            text_1 = 0\n",
    "        try:\n",
    "            text_2 = response.xpath(\n",
    "                '/html/body/div[1]/div[1]/div/section[2]/div/div[2]/div[2]/div/div/div[2]/table/tr[{}]/td[4]/text()'.format(i)).extract()[0]\n",
    "        except:\n",
    "            text_2 = 0\n",
    "        try:\n",
    "            text_3 = response.xpath(\n",
    "                '/html/body/div[1]/div[1]/div/section[2]/div/div[2]/div[2]/div/div/div[2]/table/tr[{}]/td[5]/text()'.format(i)).extract()[0]\n",
    "        except:\n",
    "            text_3 = 0\n",
    "\n",
    "        datas.append({'이름': response.xpath('/html/body/div[1]/div[1]/div/section[2]/div/div[2]/div[2]/div/div/div[2]/table/tr[{}]/td/a/text()'.format(i)).extract()[0],\n",
    "                      '시즌': response.xpath('/html/body/div[1]/div[1]/div/section[2]/div/div[2]/div[2]/div/div/div[2]/table/tr[{}]/td[2]/text()'.format(i)).extract()[0],\n",
    "                      '팀': text_1,\n",
    "                      '연봉': text_2,\n",
    "                      'WAR': text_3})"
   ]
  },
  {
   "cell_type": "code",
   "execution_count": 138,
   "metadata": {
    "scrolled": false
   },
   "outputs": [
    {
     "data": {
      "text/html": [
       "<div>\n",
       "<style scoped>\n",
       "    .dataframe tbody tr th:only-of-type {\n",
       "        vertical-align: middle;\n",
       "    }\n",
       "\n",
       "    .dataframe tbody tr th {\n",
       "        vertical-align: top;\n",
       "    }\n",
       "\n",
       "    .dataframe thead th {\n",
       "        text-align: right;\n",
       "    }\n",
       "</style>\n",
       "<table border=\"1\" class=\"dataframe\">\n",
       "  <thead>\n",
       "    <tr style=\"text-align: right;\">\n",
       "      <th></th>\n",
       "      <th>이름</th>\n",
       "      <th>시즌</th>\n",
       "      <th>팀</th>\n",
       "      <th>연봉</th>\n",
       "      <th>WAR</th>\n",
       "    </tr>\n",
       "  </thead>\n",
       "  <tbody>\n",
       "    <tr>\n",
       "      <td>0</td>\n",
       "      <td>김동주</td>\n",
       "      <td>2010</td>\n",
       "      <td>두산</td>\n",
       "      <td>70,000</td>\n",
       "      <td>3.207</td>\n",
       "    </tr>\n",
       "    <tr>\n",
       "      <td>1</td>\n",
       "      <td>박진만</td>\n",
       "      <td>2010</td>\n",
       "      <td>삼성</td>\n",
       "      <td>60,000</td>\n",
       "      <td>0.604</td>\n",
       "    </tr>\n",
       "    <tr>\n",
       "      <td>2</td>\n",
       "      <td>손민한</td>\n",
       "      <td>2010</td>\n",
       "      <td>롯데</td>\n",
       "      <td>60,000</td>\n",
       "      <td>0</td>\n",
       "    </tr>\n",
       "    <tr>\n",
       "      <td>3</td>\n",
       "      <td>이진영</td>\n",
       "      <td>2010</td>\n",
       "      <td>LG</td>\n",
       "      <td>54,000</td>\n",
       "      <td>2.570</td>\n",
       "    </tr>\n",
       "    <tr>\n",
       "      <td>4</td>\n",
       "      <td>이호준</td>\n",
       "      <td>2010</td>\n",
       "      <td>SK</td>\n",
       "      <td>50,000</td>\n",
       "      <td>0.539</td>\n",
       "    </tr>\n",
       "    <tr>\n",
       "      <td>...</td>\n",
       "      <td>...</td>\n",
       "      <td>...</td>\n",
       "      <td>...</td>\n",
       "      <td>...</td>\n",
       "      <td>...</td>\n",
       "    </tr>\n",
       "    <tr>\n",
       "      <td>895</td>\n",
       "      <td>오지환</td>\n",
       "      <td>2018</td>\n",
       "      <td>LG</td>\n",
       "      <td>29,000</td>\n",
       "      <td>3.096</td>\n",
       "    </tr>\n",
       "    <tr>\n",
       "      <td>896</td>\n",
       "      <td>박해민</td>\n",
       "      <td>2018</td>\n",
       "      <td>삼성</td>\n",
       "      <td>29,000</td>\n",
       "      <td>3.502</td>\n",
       "    </tr>\n",
       "    <tr>\n",
       "      <td>897</td>\n",
       "      <td>김선빈</td>\n",
       "      <td>2018</td>\n",
       "      <td>KIA</td>\n",
       "      <td>28,000</td>\n",
       "      <td>1.527</td>\n",
       "    </tr>\n",
       "    <tr>\n",
       "      <td>898</td>\n",
       "      <td>전준우</td>\n",
       "      <td>2018</td>\n",
       "      <td>롯데</td>\n",
       "      <td>27,000</td>\n",
       "      <td>4.799</td>\n",
       "    </tr>\n",
       "    <tr>\n",
       "      <td>899</td>\n",
       "      <td>허경민</td>\n",
       "      <td>2018</td>\n",
       "      <td>두산</td>\n",
       "      <td>26,500</td>\n",
       "      <td>4.054</td>\n",
       "    </tr>\n",
       "  </tbody>\n",
       "</table>\n",
       "<p>900 rows × 5 columns</p>\n",
       "</div>"
      ],
      "text/plain": [
       "      이름    시즌    팀      연봉    WAR\n",
       "0    김동주  2010   두산  70,000  3.207\n",
       "1    박진만  2010   삼성  60,000  0.604\n",
       "2    손민한  2010   롯데  60,000      0\n",
       "3    이진영  2010   LG  54,000  2.570\n",
       "4    이호준  2010   SK  50,000  0.539\n",
       "..   ...   ...  ...     ...    ...\n",
       "895  오지환  2018   LG  29,000  3.096\n",
       "896  박해민  2018   삼성  29,000  3.502\n",
       "897  김선빈  2018  KIA  28,000  1.527\n",
       "898  전준우  2018   롯데  27,000  4.799\n",
       "899  허경민  2018   두산  26,500  4.054\n",
       "\n",
       "[900 rows x 5 columns]"
      ]
     },
     "execution_count": 138,
     "metadata": {},
     "output_type": "execute_result"
    }
   ],
   "source": [
    "salary = pd.DataFrame(datas)\n",
    "salary"
   ]
  },
  {
   "cell_type": "code",
   "execution_count": 140,
   "metadata": {},
   "outputs": [],
   "source": [
    "salary.to_csv('salary.csv', index=False)"
   ]
  },
  {
   "cell_type": "code",
   "execution_count": null,
   "metadata": {},
   "outputs": [],
   "source": []
  }
 ],
 "metadata": {
  "kernelspec": {
   "display_name": "Python 3",
   "language": "python",
   "name": "python3"
  },
  "language_info": {
   "codemirror_mode": {
    "name": "ipython",
    "version": 3
   },
   "file_extension": ".py",
   "mimetype": "text/x-python",
   "name": "python",
   "nbconvert_exporter": "python",
   "pygments_lexer": "ipython3",
   "version": "3.7.4"
  }
 },
 "nbformat": 4,
 "nbformat_minor": 2
}
